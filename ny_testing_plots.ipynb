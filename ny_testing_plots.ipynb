{
 "cells": [
  {
   "cell_type": "code",
   "execution_count": 20,
   "metadata": {},
   "outputs": [],
   "source": [
    "import requests\n",
    "import pandas as pd\n",
    "from matplotlib import pyplot as plt"
   ]
  },
  {
   "cell_type": "code",
   "execution_count": 2,
   "metadata": {},
   "outputs": [],
   "source": [
    "r = requests.get('https://covidtracking.com/api/states/daily?state=NY').json()"
   ]
  },
  {
   "cell_type": "code",
   "execution_count": 12,
   "metadata": {},
   "outputs": [],
   "source": [
    "df = pd.DataFrame(r)\n",
    "df = df.sort_values(['date'])"
   ]
  },
  {
   "cell_type": "code",
   "execution_count": 15,
   "metadata": {},
   "outputs": [],
   "source": [
    "df.index = df.dateChecked"
   ]
  },
  {
   "cell_type": "code",
   "execution_count": 17,
   "metadata": {},
   "outputs": [
    {
     "data": {
      "text/html": [
       "<div>\n",
       "<style scoped>\n",
       "    .dataframe tbody tr th:only-of-type {\n",
       "        vertical-align: middle;\n",
       "    }\n",
       "\n",
       "    .dataframe tbody tr th {\n",
       "        vertical-align: top;\n",
       "    }\n",
       "\n",
       "    .dataframe thead th {\n",
       "        text-align: right;\n",
       "    }\n",
       "</style>\n",
       "<table border=\"1\" class=\"dataframe\">\n",
       "  <thead>\n",
       "    <tr style=\"text-align: right;\">\n",
       "      <th></th>\n",
       "      <th>date</th>\n",
       "      <th>state</th>\n",
       "      <th>positive</th>\n",
       "      <th>negative</th>\n",
       "      <th>pending</th>\n",
       "      <th>hospitalized</th>\n",
       "      <th>death</th>\n",
       "      <th>total</th>\n",
       "      <th>hash</th>\n",
       "      <th>dateChecked</th>\n",
       "      <th>totalTestResults</th>\n",
       "      <th>fips</th>\n",
       "      <th>deathIncrease</th>\n",
       "      <th>hospitalizedIncrease</th>\n",
       "      <th>negativeIncrease</th>\n",
       "      <th>positiveIncrease</th>\n",
       "      <th>totalTestResultsIncrease</th>\n",
       "    </tr>\n",
       "    <tr>\n",
       "      <th>dateChecked</th>\n",
       "      <th></th>\n",
       "      <th></th>\n",
       "      <th></th>\n",
       "      <th></th>\n",
       "      <th></th>\n",
       "      <th></th>\n",
       "      <th></th>\n",
       "      <th></th>\n",
       "      <th></th>\n",
       "      <th></th>\n",
       "      <th></th>\n",
       "      <th></th>\n",
       "      <th></th>\n",
       "      <th></th>\n",
       "      <th></th>\n",
       "      <th></th>\n",
       "      <th></th>\n",
       "    </tr>\n",
       "  </thead>\n",
       "  <tbody>\n",
       "    <tr>\n",
       "      <th>2020-03-04T21:00:00Z</th>\n",
       "      <td>20200304</td>\n",
       "      <td>NY</td>\n",
       "      <td>6</td>\n",
       "      <td>48</td>\n",
       "      <td>24.0</td>\n",
       "      <td>NaN</td>\n",
       "      <td>NaN</td>\n",
       "      <td>78</td>\n",
       "      <td>1afd6e025157a38728847bbf42145c63b024c387</td>\n",
       "      <td>2020-03-04T21:00:00Z</td>\n",
       "      <td>54</td>\n",
       "      <td>36</td>\n",
       "      <td>NaN</td>\n",
       "      <td>NaN</td>\n",
       "      <td>NaN</td>\n",
       "      <td>NaN</td>\n",
       "      <td>NaN</td>\n",
       "    </tr>\n",
       "    <tr>\n",
       "      <th>2020-03-05T21:00:00Z</th>\n",
       "      <td>20200305</td>\n",
       "      <td>NY</td>\n",
       "      <td>22</td>\n",
       "      <td>76</td>\n",
       "      <td>24.0</td>\n",
       "      <td>NaN</td>\n",
       "      <td>NaN</td>\n",
       "      <td>122</td>\n",
       "      <td>25c15099a4116ff026c04c0b4a6b3780ccba310b</td>\n",
       "      <td>2020-03-05T21:00:00Z</td>\n",
       "      <td>98</td>\n",
       "      <td>36</td>\n",
       "      <td>0.0</td>\n",
       "      <td>0.0</td>\n",
       "      <td>28.0</td>\n",
       "      <td>16.0</td>\n",
       "      <td>44.0</td>\n",
       "    </tr>\n",
       "    <tr>\n",
       "      <th>2020-03-06T21:00:00Z</th>\n",
       "      <td>20200306</td>\n",
       "      <td>NY</td>\n",
       "      <td>33</td>\n",
       "      <td>92</td>\n",
       "      <td>236.0</td>\n",
       "      <td>NaN</td>\n",
       "      <td>NaN</td>\n",
       "      <td>361</td>\n",
       "      <td>1bd1fecfd3d23311c604ac6c27d05ce5835af2c5</td>\n",
       "      <td>2020-03-06T21:00:00Z</td>\n",
       "      <td>125</td>\n",
       "      <td>36</td>\n",
       "      <td>0.0</td>\n",
       "      <td>0.0</td>\n",
       "      <td>16.0</td>\n",
       "      <td>11.0</td>\n",
       "      <td>27.0</td>\n",
       "    </tr>\n",
       "    <tr>\n",
       "      <th>2020-03-07T21:00:00Z</th>\n",
       "      <td>20200307</td>\n",
       "      <td>NY</td>\n",
       "      <td>76</td>\n",
       "      <td>92</td>\n",
       "      <td>236.0</td>\n",
       "      <td>NaN</td>\n",
       "      <td>NaN</td>\n",
       "      <td>404</td>\n",
       "      <td>d9b32dfe41c22decc86fe0a35515525a18b68fa9</td>\n",
       "      <td>2020-03-07T21:00:00Z</td>\n",
       "      <td>168</td>\n",
       "      <td>36</td>\n",
       "      <td>0.0</td>\n",
       "      <td>0.0</td>\n",
       "      <td>0.0</td>\n",
       "      <td>43.0</td>\n",
       "      <td>43.0</td>\n",
       "    </tr>\n",
       "    <tr>\n",
       "      <th>2020-03-08T20:00:00Z</th>\n",
       "      <td>20200308</td>\n",
       "      <td>NY</td>\n",
       "      <td>105</td>\n",
       "      <td>92</td>\n",
       "      <td>NaN</td>\n",
       "      <td>NaN</td>\n",
       "      <td>NaN</td>\n",
       "      <td>197</td>\n",
       "      <td>22912a8c6cdefd796b1412292c796959a8cc088f</td>\n",
       "      <td>2020-03-08T20:00:00Z</td>\n",
       "      <td>197</td>\n",
       "      <td>36</td>\n",
       "      <td>0.0</td>\n",
       "      <td>0.0</td>\n",
       "      <td>0.0</td>\n",
       "      <td>29.0</td>\n",
       "      <td>29.0</td>\n",
       "    </tr>\n",
       "  </tbody>\n",
       "</table>\n",
       "</div>"
      ],
      "text/plain": [
       "                          date state  positive  negative  pending  \\\n",
       "dateChecked                                                         \n",
       "2020-03-04T21:00:00Z  20200304    NY         6        48     24.0   \n",
       "2020-03-05T21:00:00Z  20200305    NY        22        76     24.0   \n",
       "2020-03-06T21:00:00Z  20200306    NY        33        92    236.0   \n",
       "2020-03-07T21:00:00Z  20200307    NY        76        92    236.0   \n",
       "2020-03-08T20:00:00Z  20200308    NY       105        92      NaN   \n",
       "\n",
       "                      hospitalized  death  total  \\\n",
       "dateChecked                                        \n",
       "2020-03-04T21:00:00Z           NaN    NaN     78   \n",
       "2020-03-05T21:00:00Z           NaN    NaN    122   \n",
       "2020-03-06T21:00:00Z           NaN    NaN    361   \n",
       "2020-03-07T21:00:00Z           NaN    NaN    404   \n",
       "2020-03-08T20:00:00Z           NaN    NaN    197   \n",
       "\n",
       "                                                          hash  \\\n",
       "dateChecked                                                      \n",
       "2020-03-04T21:00:00Z  1afd6e025157a38728847bbf42145c63b024c387   \n",
       "2020-03-05T21:00:00Z  25c15099a4116ff026c04c0b4a6b3780ccba310b   \n",
       "2020-03-06T21:00:00Z  1bd1fecfd3d23311c604ac6c27d05ce5835af2c5   \n",
       "2020-03-07T21:00:00Z  d9b32dfe41c22decc86fe0a35515525a18b68fa9   \n",
       "2020-03-08T20:00:00Z  22912a8c6cdefd796b1412292c796959a8cc088f   \n",
       "\n",
       "                               dateChecked  totalTestResults fips  \\\n",
       "dateChecked                                                         \n",
       "2020-03-04T21:00:00Z  2020-03-04T21:00:00Z                54   36   \n",
       "2020-03-05T21:00:00Z  2020-03-05T21:00:00Z                98   36   \n",
       "2020-03-06T21:00:00Z  2020-03-06T21:00:00Z               125   36   \n",
       "2020-03-07T21:00:00Z  2020-03-07T21:00:00Z               168   36   \n",
       "2020-03-08T20:00:00Z  2020-03-08T20:00:00Z               197   36   \n",
       "\n",
       "                      deathIncrease  hospitalizedIncrease  negativeIncrease  \\\n",
       "dateChecked                                                                   \n",
       "2020-03-04T21:00:00Z            NaN                   NaN               NaN   \n",
       "2020-03-05T21:00:00Z            0.0                   0.0              28.0   \n",
       "2020-03-06T21:00:00Z            0.0                   0.0              16.0   \n",
       "2020-03-07T21:00:00Z            0.0                   0.0               0.0   \n",
       "2020-03-08T20:00:00Z            0.0                   0.0               0.0   \n",
       "\n",
       "                      positiveIncrease  totalTestResultsIncrease  \n",
       "dateChecked                                                       \n",
       "2020-03-04T21:00:00Z               NaN                       NaN  \n",
       "2020-03-05T21:00:00Z              16.0                      44.0  \n",
       "2020-03-06T21:00:00Z              11.0                      27.0  \n",
       "2020-03-07T21:00:00Z              43.0                      43.0  \n",
       "2020-03-08T20:00:00Z              29.0                      29.0  "
      ]
     },
     "execution_count": 17,
     "metadata": {},
     "output_type": "execute_result"
    }
   ],
   "source": [
    "df.head()"
   ]
  },
  {
   "cell_type": "code",
   "execution_count": 29,
   "metadata": {},
   "outputs": [
    {
     "data": {
      "image/png": "[encoded data removed]",
      "text/plain": [
       "<Figure size 432x288 with 1 Axes>"
      ]
     },
     "metadata": {
      "needs_background": "light"
     },
     "output_type": "display_data"
    }
   ],
   "source": [
    "df.positive.plot()\n",
    "df.negative.plot()\n",
    "df.pending.plot()\n",
    "df.hospitalized.plot()\n",
    "plt.xticks(rotation = 45)\n",
    "plt.legend()\n",
    "plt.show()"
   ]
  },
  {
   "cell_type": "code",
   "execution_count": 37,
   "metadata": {},
   "outputs": [
    {
     "data": {
      "image/png": "[encoded data removed]",
      "text/plain": [
       "<Figure size 432x288 with 1 Axes>"
      ]
     },
     "metadata": {
      "needs_background": "light"
     },
     "output_type": "display_data"
    }
   ],
   "source": [
    "df['ratio'] = df.positive/df.total*100\n",
    "df.ratio.plot()\n",
    "(df.total/2000).plot()\n",
    "plt.xticks(rotation = 45)\n",
    "plt.legend()\n",
    "plt.grid()\n",
    "plt.show()"
   ]
  },
  {
   "cell_type": "code",
   "execution_count": null,
   "metadata": {},
   "outputs": [],
   "source": []
  }
 ],
 "metadata": {
  "kernelspec": {
   "display_name": "Python 3",
   "language": "python",
   "name": "python3"
  },
  "language_info": {
   "codemirror_mode": {
    "name": "ipython",
    "version": 3
   },
   "file_extension": ".py",
   "mimetype": "text/x-python",
   "name": "python",
   "nbconvert_exporter": "python",
   "pygments_lexer": "ipython3",
   "version": "3.7.3"
  }
 },
 "nbformat": 4,
 "nbformat_minor": 4
}
